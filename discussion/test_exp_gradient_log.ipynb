{
  "cells": [
    {
      "cell_type": "code",
      "execution_count": 1,
      "metadata": {
        "id": "fdwFUZDJhaqI"
      },
      "outputs": [],
      "source": [
        "import tensorflow as tf\n",
        "import math\n",
        "import matplotlib.pyplot as plt\n",
        "import numpy as np\n",
        "import tensorflow_probability as tfp\n",
        "import functools\n",
        "import contextlib\n",
        "import time\n",
        "import shutil"
      ]
    },
    {
      "cell_type": "code",
      "execution_count": 2,
      "metadata": {
        "id": "IASljEDVhl7w"
      },
      "outputs": [],
      "source": [
        "x = tf.linspace(-2*math.pi, 6*math.pi, 30)\n",
        "x = tf.Variable(x)\n",
        "rate_alpha = 0.05\n",
        "dropping_threshold = 3000\n",
        "np.random.seed(seed=2022)"
      ]
    },
    {
      "cell_type": "markdown",
      "metadata": {
        "id": "pHIrrxLqPOO6"
      },
      "source": [
        "Maximize the functions"
      ]
    },
    {
      "cell_type": "code",
      "execution_count": 3,
      "metadata": {
        "id": "uhKVJpIwVLVQ"
      },
      "outputs": [],
      "source": [
        "def o_eq(xs):\n",
        "  return -xs**2\n",
        "\n",
        "def exp_eq(xs):\n",
        "  return -(xs-10.0)**2\n",
        "\n",
        "def loss_1():\n",
        "  return -o_eq(xs_l1)\n",
        "\n",
        "def loss_2():\n",
        "  return -exp_eq(xs_l2)\n",
        "\n",
        "def loss_3():\n",
        "  return -(o_eq(xs_l3) + tf.stop_gradient(exp_eq(xs_l3) - o_eq(xs_l3)))\n",
        "\n",
        "def loss_4():\n",
        "  return tf.experimental.numpy.log10((o_eq(xs_l4) + tf.stop_gradient(exp_eq(xs_l4) - o_eq(xs_l4))))"
      ]
    },
    {
      "cell_type": "code",
      "execution_count": 4,
      "metadata": {
        "colab": {
          "base_uri": "https://localhost:8080/",
          "height": 265
        },
        "id": "tdohWjE1Vfpu",
        "outputId": "efba2cea-6a38-475a-d6c5-1d67f5d75b59"
      },
      "outputs": [
        {
          "output_type": "display_data",
          "data": {
            "text/plain": [
              "<Figure size 432x288 with 1 Axes>"
            ],
            "image/png": "[encoded data removed]"
          },
          "metadata": {
            "needs_background": "light"
          }
        }
      ],
      "source": [
        "plt.plot(x.numpy(), o_eq(x))\n",
        "plt.plot(x.numpy(), exp_eq(x))\n",
        "plt.show()"
      ]
    },
    {
      "cell_type": "code",
      "execution_count": 5,
      "metadata": {
        "colab": {
          "base_uri": "https://localhost:8080/",
          "height": 265
        },
        "id": "wSANRGOQSs0G",
        "outputId": "2315d445-79da-44fa-c390-a2853b0c8b14"
      },
      "outputs": [
        {
          "output_type": "display_data",
          "data": {
            "text/plain": [
              "<Figure size 432x288 with 1 Axes>"
            ],
            "image/png": "[encoded data removed]"
          },
          "metadata": {
            "needs_background": "light"
          }
        }
      ],
      "source": [
        "optimal_solution_l1 = []\n",
        "optimal_solution_l2 = []\n",
        "optimal_solution_l3 = []\n",
        "optimal_solution_l4 = []\n",
        "init_seed = []\n",
        "for ii in range(100):\n",
        "  seeding_init = (np.random.rand()-0.5)*25.0+10.0\n",
        "  init_seed.append(seeding_init)\n",
        "  opt_loss1 = tf.keras.optimizers.Adam(learning_rate=rate_alpha)\n",
        "  opt_loss2 = tf.keras.optimizers.Adam(learning_rate=rate_alpha)\n",
        "  opt_loss3 = tf.keras.optimizers.Adam(learning_rate=rate_alpha)\n",
        "  opt_loss4 = tf.keras.optimizers.Adam(learning_rate=rate_alpha)\n",
        "  xs_l1 = tf.Variable(seeding_init)\n",
        "  xs_l2 = tf.Variable(seeding_init)\n",
        "  xs_l3 = tf.Variable(seeding_init)\n",
        "  xs_l4 = tf.Variable(seeding_init)\n",
        "\n",
        "  for ii in range(dropping_threshold):\n",
        "    opt_loss1.minimize(loss_1, [xs_l1])\n",
        "    opt_loss2.minimize(loss_2, [xs_l2])\n",
        "    opt_loss3.minimize(loss_3, [xs_l3])\n",
        "    opt_loss4.minimize(loss_4, [xs_l4])\n",
        "  \n",
        "  optimal_solution_l1.append(xs_l1.numpy())\n",
        "  optimal_solution_l2.append(xs_l2.numpy())\n",
        "  optimal_solution_l3.append(xs_l3.numpy())\n",
        "  optimal_solution_l4.append(xs_l4.numpy())\n",
        "\n",
        "np.savetxt(\"loss_1_optima.csv\", optimal_solution_l1, delimiter=\",\")\n",
        "np.savetxt(\"loss_2_optima.csv\", optimal_solution_l2, delimiter=\",\")\n",
        "np.savetxt(\"loss_3_optima.csv\", optimal_solution_l3, delimiter=\",\")\n",
        "np.savetxt(\"loss_4_optima.csv\", optimal_solution_l4, delimiter=\",\")\n",
        "np.savetxt(\"optima_init.csv\", init_seed, delimiter=\",\")\n",
        "\n",
        "fig = plt.figure()\n",
        "ax = fig.add_subplot(1, 1, 1)\n",
        "ax.boxplot([optimal_solution_l1, optimal_solution_l2, optimal_solution_l3, optimal_solution_l4])\n",
        "plt.show()"
      ]
    },
    {
      "cell_type": "code",
      "execution_count": 6,
      "metadata": {
        "colab": {
          "base_uri": "https://localhost:8080/",
          "height": 35
        },
        "id": "JBf9UxlY6QD3",
        "outputId": "18c31b83-aaf4-442e-a8e5-e515e55ef334"
      },
      "outputs": [
        {
          "output_type": "execute_result",
          "data": {
            "text/plain": [
              "'export.zip'"
            ],
            "application/vnd.google.colaboratory.intrinsic+json": {
              "type": "string"
            }
          },
          "metadata": {},
          "execution_count": 6
        }
      ],
      "source": [
        "x = tf.linspace(-2*math.pi, 6*math.pi, 50)\n",
        "x = tf.Variable(x)\n",
        "with tf.GradientTape(persistent=True) as tape:\n",
        "  loss_1_v = -o_eq(x)\n",
        "  loss_2_v = -exp_eq(x)\n",
        "  loss_3_v = -(o_eq(x) + tf.stop_gradient(exp_eq(x) - o_eq(x)))\n",
        "  loss_4_v = tf.experimental.numpy.log10((o_eq(x) + tf.stop_gradient(exp_eq(x) - o_eq(x))))\n",
        "grad_l1 = tape.gradient(loss_1_v, x)\n",
        "grad_l2 = tape.gradient(loss_2_v, x)\n",
        "grad_l3 = tape.gradient(loss_3_v, x)\n",
        "grad_l4 = tape.gradient(loss_4_v, x)\n",
        "\n",
        "np.savetxt(\"loss_1_visual.csv\", loss_1_v.numpy(), delimiter=\",\")\n",
        "np.savetxt(\"loss_2_visual.csv\", loss_2_v.numpy(), delimiter=\",\")\n",
        "np.savetxt(\"loss_3_visual.csv\", loss_3_v.numpy(), delimiter=\",\")\n",
        "np.savetxt(\"loss_4_visual.csv\", loss_4_v.numpy(), delimiter=\",\")\n",
        "np.savetxt(\"loss_1_grad.csv\", grad_l1.numpy(), delimiter=\",\")\n",
        "np.savetxt(\"loss_2_grad.csv\", grad_l2.numpy(), delimiter=\",\")\n",
        "np.savetxt(\"loss_3_grad.csv\", grad_l3.numpy(), delimiter=\",\")\n",
        "np.savetxt(\"loss_4_grad.csv\", grad_l4.numpy(), delimiter=\",\")\n",
        "shutil.make_archive('export', format='zip')\n"
      ]
    }
  ],
  "metadata": {
    "colab": {
      "provenance": []
    },
    "gpuClass": "standard",
    "kernelspec": {
      "display_name": "Python 3",
      "name": "python3"
    },
    "language_info": {
      "name": "python"
    }
  },
  "nbformat": 4,
  "nbformat_minor": 0
}